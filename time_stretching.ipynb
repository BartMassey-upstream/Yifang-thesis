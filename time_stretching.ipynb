{
 "cells": [
  {
   "cell_type": "code",
   "execution_count": 6,
   "metadata": {},
   "outputs": [
    {
     "ename": "ValueError",
     "evalue": "operands could not be broadcast together with shapes (14,13) (3,13) ",
     "output_type": "error",
     "traceback": [
      "\u001b[0;31m---------------------------------------------------------------------------\u001b[0m",
      "\u001b[0;31mValueError\u001b[0m                                Traceback (most recent call last)",
      "Cell \u001b[0;32mIn [6], line 4\u001b[0m\n\u001b[1;32m      1\u001b[0m \u001b[39mfrom\u001b[39;00m \u001b[39mmain\u001b[39;00m \u001b[39mimport\u001b[39;00m \u001b[39m*\u001b[39m\n\u001b[1;32m      3\u001b[0m train_set_phones, test_set_phones \u001b[39m=\u001b[39m get_phones()\n\u001b[0;32m----> 4\u001b[0m \u001b[39mprint\u001b[39m(test_set_phones[\u001b[39m0\u001b[39;49m]\u001b[39m.\u001b[39;49mdistance_to(test_set_phones[\u001b[39m1\u001b[39;49m]))\n",
      "File \u001b[0;32m~/Downloads/Yifang-thesis/recognizer/phone.py:28\u001b[0m, in \u001b[0;36mPhone.distance_to\u001b[0;34m(self, other)\u001b[0m\n\u001b[1;32m     27\u001b[0m \u001b[39mdef\u001b[39;00m \u001b[39mdistance_to\u001b[39m(\u001b[39mself\u001b[39m, other: \u001b[39m\"\u001b[39m\u001b[39mPhone\u001b[39m\u001b[39m\"\u001b[39m):\n\u001b[0;32m---> 28\u001b[0m     \u001b[39mreturn\u001b[39;00m np\u001b[39m.\u001b[39mlinalg\u001b[39m.\u001b[39mnorm(\u001b[39mself\u001b[39;49m\u001b[39m.\u001b[39;49mmfcc_seq \u001b[39m-\u001b[39;49m other\u001b[39m.\u001b[39;49mmfcc_seq)\n",
      "\u001b[0;31mValueError\u001b[0m: operands could not be broadcast together with shapes (14,13) (3,13) "
     ]
    }
   ],
   "source": [
    "from main import *\n",
    "\n",
    "train_set_phones, test_set_phones = get_phones()\n",
    "\n",
    "# time stretching all the phones into the same length\n"
   ]
  }
 ],
 "metadata": {
  "kernelspec": {
   "display_name": "Python 3",
   "language": "python",
   "name": "python3"
  },
  "language_info": {
   "codemirror_mode": {
    "name": "ipython",
    "version": 3
   },
   "file_extension": ".py",
   "mimetype": "text/x-python",
   "name": "python",
   "nbconvert_exporter": "python",
   "pygments_lexer": "ipython3",
   "version": "3.10.7"
  },
  "orig_nbformat": 4,
  "vscode": {
   "interpreter": {
    "hash": "aee8b7b246df8f9039afb4144a1f6fd8d2ca17a180786b69acc140d282b71a49"
   }
  }
 },
 "nbformat": 4,
 "nbformat_minor": 2
}
