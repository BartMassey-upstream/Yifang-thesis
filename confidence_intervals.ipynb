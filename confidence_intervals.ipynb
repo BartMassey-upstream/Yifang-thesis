{
 "cells": [
  {
   "cell_type": "code",
   "execution_count": 12,
   "metadata": {},
   "outputs": [
    {
     "name": "stdout",
     "output_type": "stream",
     "text": [
      "0.392\n",
      "BootstrapResult(confidence_interval=ConfidenceInterval(low=0.38243574357435745, high=0.40194019401940195), standard_error=0.004887146317997574)\n"
     ]
    }
   ],
   "source": [
    "import pandas as pd\n",
    "from scipy.stats import bootstrap\n",
    "import numpy as np\n",
    "\n",
    "data = pd.read_csv('dtw_result_1000.csv')\n",
    "# if True phone == Predicted phone, add 1 to correct_num\n",
    "data['correct'] = data['True phone'] == data['Predicted phone']\n",
    "# get the accuracy\n",
    "print(data['correct'].sum() / len(data))\n",
    "\n",
    "# get the confidence interval by bootstrapping\n",
    "bootstrap_ci = bootstrap(\n",
    "    data=(list(data['correct']),),\n",
    "    statistic=lambda results, axis: sum(results) / len(results),\n",
    "    confidence_level=0.95,\n",
    "    method='percentile',\n",
    "    random_state=114514,\n",
    ")\n",
    "print(bootstrap_ci)"
   ]
  },
  {
   "cell_type": "code",
   "execution_count": null,
   "metadata": {},
   "outputs": [],
   "source": [
    "# get the confidence interval for the stretched results\n"
   ]
  }
 ],
 "metadata": {
  "kernelspec": {
   "display_name": "Python 3",
   "language": "python",
   "name": "python3"
  },
  "language_info": {
   "codemirror_mode": {
    "name": "ipython",
    "version": 3
   },
   "file_extension": ".py",
   "mimetype": "text/x-python",
   "name": "python",
   "nbconvert_exporter": "python",
   "pygments_lexer": "ipython3",
   "version": "3.10.7"
  },
  "orig_nbformat": 4,
  "vscode": {
   "interpreter": {
    "hash": "aee8b7b246df8f9039afb4144a1f6fd8d2ca17a180786b69acc140d282b71a49"
   }
  }
 },
 "nbformat": 4,
 "nbformat_minor": 2
}
